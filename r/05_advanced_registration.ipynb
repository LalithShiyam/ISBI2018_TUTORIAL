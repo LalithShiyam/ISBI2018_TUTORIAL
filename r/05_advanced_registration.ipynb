{
 "cells": [
  {
   "cell_type": "markdown",
   "metadata": {},
   "source": [
    "<h1 align=\"center\">Advanced Registration</h1>\n",
    "\n",
    "\n",
    "**Summary:**\n",
    "1. SimpleITK provides two flavors of non-rigid registration:\n",
    "   * Free Form Deformation, BSpline based, and Demons using the ITKv4 registration framework.\n",
    "   * A set of Demons filters that are independent of the registration framework (`DemonsRegistrationFilter, DiffeomorphicDemonsRegistrationFilter, FastSymmetricForcesDemonsRegistrationFilter, SymmetricForcesDemonsRegistrationFilter`).\n",
    "2. Registration evaluation:\n",
    "   * Registration accuracy, the quantity of interest is the Target Registration Error (TRE).\n",
    "   * TRE is spatially variant.\n",
    "   * Surrogate metrics for evaluating registration accuracy such as segmentation overlaps are relevant, but are potentially deficient.\n",
    "   * Registration time.\n",
    "   * Acceptable values for TRE and runtime are context dependent."
   ]
  },
  {
   "cell_type": "code",
   "execution_count": null,
   "metadata": {},
   "outputs": [],
   "source": [
    "library(SimpleITK)\n",
    "library(ggplot2)\n",
    "library(tidyr)\n",
    "library(plot3D)\n",
    "library(purrr)\n",
    "\n",
    "source(\"downloaddata.R\")\n",
    "source(\"registration_gui.R\")\n",
    "source(\"utilities.R\")"
   ]
  },
  {
   "cell_type": "markdown",
   "metadata": {},
   "source": [
    "## Data and Registration Task\n",
    "\n",
    "In this notebook we will use the Point-validated Pixel-based Breathing Thorax Model (POPI). This is a 4D (3D+time) thoracic-abdominal CT (10 CTs representing the respiratory cycle) with masks segmenting each of the CTs to air/body/lung, and a set of corresponding landmarks localized in each of the CT volumes.\n",
    "\n",
    "The registration problem we deal with is non-rigid alignment of the lungs throughout the respiratory cycle. This information is relevant for radiation therapy planning and execution.\n",
    "\n",
    "\n",
    "The POPI model is provided by the Léon Bérard Cancer Center & CREATIS Laboratory, Lyon, France. The relevant publication is:\n",
    "\n",
    "J. Vandemeulebroucke, D. Sarrut, P. Clarysse, \"The POPI-model, a point-validated pixel-based breathing thorax model\",\n",
    "Proc. XVth International Conference on the Use of Computers in Radiation Therapy (ICCR), Toronto, Canada, 2007.\n",
    "\n",
    "Additional 4D CT data sets with reference points are available from the CREATIS Laboratory <a href=\"http://www.creatis.insa-lyon.fr/rio/popi-model?action=show&redirect=popi\">here</a>. "
   ]
  },
  {
   "cell_type": "code",
   "execution_count": null,
   "metadata": {
    "collapsed": true,
    "simpleitk_error_allowed": "Exception in SITK"
   },
   "outputs": [],
   "source": [
    "image_file_names <- file.path(\"POPI\", \"meta\", paste0(c(0,7), \"0-P.mhd\"))\n",
    "# Read the CT images as 32bit float, the pixel type required for registration.\n",
    "images <- lapply(image_file_names, function(image_file_name) ReadImage(fetch_data(image_file_name), \"sitkFloat32\"))    \n",
    "\n",
    "mask_file_names <- file.path(\"POPI\", \"masks\", paste0(c(0,7), \"0-air-body-lungs.mhd\"))\n",
    "masks <- lapply(mask_file_names, function(mask_file_name) ReadImage(fetch_data(mask_file_name)))    \n",
    "\n",
    "\n",
    "points_file_names <- file.path(\"POPI\", \"landmarks\", paste0(c(0,7), \"0-Landmarks.pts\"))\n",
    "points <- lapply(points_file_names, function(points_file_name) read.table(fetch_data(points_file_name)))\n",
    "\n",
    "# Look at a temporal slice for the mid coronal index     \n",
    "coronal_index <- as.integer(round(images[[1]]$GetHeight()/2.0))\n",
    "temporal_slice <- temporal_coronal_with_overlay(coronal_index, images, masks, popi_lung_label, -1024, 976)\n",
    "    # Flip the image so that it corresponds to the standard radiological display.\n",
    "Show(temporal_slice[,seq(temporal_slice$GetHeight(),0,-1),]) "
   ]
  },
  {
   "cell_type": "markdown",
   "metadata": {},
   "source": [
    "## Free Form Deformation\n",
    "\n",
    "Define a BSplineTransform using a sparse set of grid points overlaid onto the fixed image's domain to deform it.\n",
    "\n",
    "For the current registration task we are fortunate in that we have a unique setting. The images are of the same patient during respiration so we can initialize the registration using the identity transform. Additionally, we have masks demarcating the lungs.\n",
    "\n",
    "We use the registration framework taking advantage of its ability to use masks that limit the similarity metric estimation to points lying inside our region of interest, the lungs."
   ]
  },
  {
   "cell_type": "code",
   "execution_count": null,
   "metadata": {
    "collapsed": true
   },
   "outputs": [],
   "source": [
    "fixed_index = 1\n",
    "moving_index = 2\n",
    "\n",
    "fixed_image <- images[[fixed_index]]\n",
    "fixed_image_mask <- masks[[fixed_index]] == popi_lung_label\n",
    "fixed_points <- t(as.matrix(points[[fixed_index]]))\n",
    "\n",
    "moving_image <- images[[moving_index]]\n",
    "moving_image_mask <- masks[[moving_index]] == popi_lung_label\n",
    "moving_points <- t(as.matrix(points[[moving_index]]))"
   ]
  },
  {
   "cell_type": "code",
   "execution_count": null,
   "metadata": {},
   "outputs": [],
   "source": [
    "registration_method <- ImageRegistrationMethod()\n",
    "    \n",
    "# Determine the number of Bspline control points using the physical spacing we want for the control grid. \n",
    "grid_physical_spacing <- c(50.0, 50.0, 50.0) # A control point every 50mm\n",
    "image_physical_size <- fixed_image$GetSize() * fixed_image$GetSpacing()\n",
    "mesh_size <- as.integer(round(image_physical_size/grid_physical_spacing))\n",
    "\n",
    "initial_transform <- BSplineTransformInitializer(image1 = fixed_image, \n",
    "                                                 transformDomainMeshSize = mesh_size, order=3)    \n",
    "registration_method$SetInitialTransform(initial_transform)\n",
    "        \n",
    "registration_method$SetMetricAsMeanSquares()\n",
    "registration_method$SetMetricSamplingStrategy(\"RANDOM\")\n",
    "registration_method$SetMetricSamplingPercentage(0.01)\n",
    "registration_method$SetMetricFixedMask(fixed_image_mask)\n",
    "\n",
    "registration_method$SetShrinkFactorsPerLevel(shrinkFactors = c(4,2,1))\n",
    "registration_method$SetSmoothingSigmasPerLevel(smoothingSigmas=c(2,1,0))\n",
    "registration_method$SmoothingSigmasAreSpecifiedInPhysicalUnitsOn()\n",
    "\n",
    "registration_method$SetInterpolator(\"sitkLinear\")\n",
    "registration_method$SetOptimizerAsLBFGSB(gradientConvergenceTolerance=1e-5, numberOfIterations=100)\n",
    "        \n",
    "final_transformation <- registration_method$Execute(fixed_image, moving_image)\n",
    "cat(paste0(\"Optimizer\\'s stopping condition, \",registration_method$GetOptimizerStopConditionDescription()))\n",
    "cat(\"\\n\",\"With metric value: \", registration_method$GetMetricValue())"
   ]
  },
  {
   "cell_type": "markdown",
   "metadata": {},
   "source": [
    "## Qualitative evaluation via segmentation transfer\n",
    "\n",
    "Transfer the segmentation from the moving image to the fixed image before and after registration and visually evaluate overlap."
   ]
  },
  {
   "cell_type": "code",
   "execution_count": null,
   "metadata": {
    "collapsed": true,
    "simpleitk_error_allowed": "Exception in SITK"
   },
   "outputs": [],
   "source": [
    "transformed_segmentation <- Resample(masks[[moving_index]],\n",
    "                                     fixed_image,\n",
    "                                     final_transformation, \n",
    "                                     \"sitkNearestNeighbor\",\n",
    "                                      0.0, \n",
    "                                      moving_image_mask$GetPixelID())\n",
    "\n",
    "temporal_slice <- temporal_coronal_with_overlay(coronal_index, c(fixed_image,fixed_image), \n",
    "                                                c(masks[[moving_index]], transformed_segmentation), \n",
    "                                                popi_lung_label, -1024, 976)\n",
    "    # Flip the image so that it corresponds to the standard radiological display.\n",
    "Show(temporal_slice[,seq(temporal_slice$GetHeight(),0,-1),]) "
   ]
  },
  {
   "cell_type": "markdown",
   "metadata": {},
   "source": [
    "### Quantitative evaluation \n",
    "\n",
    "The most appropriate evaluation is based on analysis of Target Registration Errors(TRE), which is defined as follows:\n",
    "\n",
    "Given the transformation $T_f^m$ and corresponding points in the two coordinate systems, $^fp,^mp$, points which were not used in the registration process, TRE is defined as $\\|T_f^m(^fp) - ^mp\\|$. \n",
    "\n",
    "We start by looking at some descriptive statistics of TRE:"
   ]
  },
  {
   "cell_type": "code",
   "execution_count": null,
   "metadata": {},
   "outputs": [],
   "source": [
    "initial_TRE <- target_registration_errors(Transform(), fixed_points, moving_points)\n",
    "final_TRE <- target_registration_errors(final_transformation, fixed_points, moving_points)\n",
    "\n",
    "cat(paste0('Initial alignment errors in millimeters, mean(std): ',\n",
    "           sprintf('%.2f',mean(initial_TRE)),'(',sprintf('%.2f',sd(initial_TRE)),') max:', sprintf('%.2f\\n',max(initial_TRE))))\n",
    "cat(paste0('Final alignment errors in millimeters, mean(std): ',\n",
    "           sprintf('%.2f',mean(final_TRE)),'(',sprintf('%.2f',sd(final_TRE)),') max:', sprintf('%.2f\\n',max(final_TRE))))"
   ]
  },
  {
   "cell_type": "markdown",
   "metadata": {},
   "source": [
    "The above descriptive statistics do not convey the whole picture, we should also look at the TRE distributions before and after registration."
   ]
  },
  {
   "cell_type": "code",
   "execution_count": null,
   "metadata": {},
   "outputs": [],
   "source": [
    "df <- data.frame(AfterRegistration=final_TRE, BeforeRegistration=initial_TRE)\n",
    "df.long <- gather(df, key=ErrorType, value=ErrorMagnitude)\n",
    "\n",
    "ggplot(df.long, aes(x=ErrorMagnitude, group=ErrorType, colour=ErrorType, fill=ErrorType)) + \n",
    "geom_histogram(bins=20,position='identity', alpha=0.3) + \n",
    "theme(legend.title=element_blank(), legend.position=c(.85, .85))\n",
    "## Or, if you prefer density plots\n",
    "ggplot(df.long, aes(x=ErrorMagnitude, group=ErrorType, colour=ErrorType, fill=ErrorType)) + \n",
    "geom_density(position='identity', alpha=0.3) + \n",
    "theme(legend.title=element_blank(), legend.position=c(.85, .85))"
   ]
  },
  {
   "cell_type": "markdown",
   "metadata": {},
   "source": [
    "Finally, we should also take into account the fact that TRE is spatially variant (think center of rotation). We therefore should also explore the distribution of errors as a function of the point location."
   ]
  },
  {
   "cell_type": "code",
   "execution_count": null,
   "metadata": {},
   "outputs": [],
   "source": [
    "max_TRE = max(initial_TRE, final_TRE)\n",
    "\n",
    "colors <- colorRampPalette(c(\"black\", \"red\", \"yellow\", \"white\"))(length(fixed_points))\n",
    "\n",
    "scatter3D(fixed_points[1,], fixed_points[2,], fixed_points[3,],\n",
    "          main=\"TRE (mm) before registration\",\n",
    "          pch = 19, colvar=initial_TRE, col = colors, clim=c(0,max_TRE))\n",
    "\n",
    "scatter3D(fixed_points[1,], fixed_points[2,], fixed_points[3,],\n",
    "          main=\"TRE (mm) after registration\",\n",
    "          pch = 19, colvar=final_TRE, col = colors, clim=c(0,max_TRE))"
   ]
  },
  {
   "cell_type": "markdown",
   "metadata": {},
   "source": [
    "Deciding whether a registration algorithm is appropriate for a specific problem is context dependent and is defined by the clinical/research needs both in terms of accuracy and computational complexity."
   ]
  },
  {
   "cell_type": "markdown",
   "metadata": {},
   "source": [
    "## Demons Based Registration\n",
    "\n",
    "SimpleITK includes a number of filters from the Demons registration family (originally introduced by J. P. Thirion):\n",
    "1. DemonsRegistrationFilter.\n",
    "2. DiffeomorphicDemonsRegistrationFilter.\n",
    "3. FastSymmetricForcesDemonsRegistrationFilter.\n",
    "4. SymmetricForcesDemonsRegistrationFilter.\n",
    "\n",
    "These are appropriate for mono-modal registration. As these filters are independent of the ImageRegistrationMethod we do not have access to the multiscale framework. Luckily it is easy to implement our own multiscale framework in SimpleITK, which is what we do in the next cell."
   ]
  },
  {
   "cell_type": "code",
   "execution_count": null,
   "metadata": {
    "collapsed": true
   },
   "outputs": [],
   "source": [
    "#    \n",
    "# Args:\n",
    "#        image: The image we want to resample.\n",
    "#        shrink_factor: A number greater than one, such that the new image's size is original_size/shrink_factor.\n",
    "#        smoothing_sigma: Sigma for Gaussian smoothing, this is in physical (image spacing) units, not pixels.\n",
    "#    Return:\n",
    "#        Image which is a result of smoothing the input and then resampling it using the given sigma and shrink factor.\n",
    "#\n",
    "smooth_and_resample <- function(image, shrink_factor, smoothing_sigma)\n",
    "{\n",
    "    smoothed_image <- SmoothingRecursiveGaussian(image, smoothing_sigma)\n",
    "    \n",
    "    original_spacing <- image$GetSpacing()\n",
    "    original_size <- image$GetSize()\n",
    "    new_size <-  as.integer(round(original_size/shrink_factor))\n",
    "    new_spacing <- (original_size-1)*original_spacing/(new_size-1)\n",
    "\n",
    "    return(Resample(smoothed_image, new_size, Transform(), \n",
    "                    \"sitkLinear\", image$GetOrigin(),\n",
    "                    new_spacing, image$GetDirection(), 0.0, \n",
    "                    image$GetPixelID()))\n",
    "}\n",
    "\n",
    "#    \n",
    "# Run the given registration algorithm in a multiscale fashion. The original scale should not be given as input as the\n",
    "# original images are implicitly incorporated as the base of the pyramid.\n",
    "# Args:\n",
    "#   registration_algorithm: Any registration algorithm that has an Execute(fixed_image, moving_image, displacement_field_image)\n",
    "#                           method.\n",
    "#   fixed_image: Resulting transformation maps points from this image's spatial domain to the moving image spatial domain.\n",
    "#   moving_image: Resulting transformation maps points from the fixed_image's spatial domain to this image's spatial domain.\n",
    "#   initial_transform: Any SimpleITK transform, used to initialize the displacement field.\n",
    "#   shrink_factors: Shrink factors relative to the original image's size.\n",
    "#   smoothing_sigmas: Amount of smoothing which is done prior to resampling the image using the given shrink factor. These\n",
    "#                     are in physical (image spacing) units.\n",
    "# Returns: \n",
    "#    DisplacementFieldTransform\n",
    "#\n",
    "multiscale_demons <- function(registration_algorithm, fixed_image, moving_image, initial_transform = NULL, \n",
    "                              shrink_factors=NULL, smoothing_sigmas=NULL)\n",
    "{    \n",
    "    # Create image pyramids. \n",
    "    fixed_images <- c(fixed_image, \n",
    "                      if(!is.null(shrink_factors))\n",
    "                          map2(rev(shrink_factors), rev(smoothing_sigmas), \n",
    "                               ~smooth_and_resample(fixed_image, .x, .y))\n",
    "                      )\n",
    "    moving_images <- c(moving_image, \n",
    "                       if(!is.null(shrink_factors))\n",
    "                           map2(rev(shrink_factors), rev(smoothing_sigmas), \n",
    "                               ~smooth_and_resample(moving_image, .x, .y))\n",
    "                       )\n",
    "\n",
    "    # Uncomment the following two lines if you want to see your image pyramids.\n",
    "    #lapply(fixed_images, Show)\n",
    "    #lapply(moving_images, Show)\n",
    "    \n",
    "                              \n",
    "    # Create initial displacement field at lowest resolution. \n",
    "    # Currently, the pixel type is required to be sitkVectorFloat64 because of a constraint imposed by the Demons filters.\n",
    "    lastImage <- fixed_images[[length(fixed_images)]]\n",
    "    if(!is.null(initial_transform))\n",
    "    {\n",
    "        initial_displacement_field = TransformToDisplacementField(initial_transform, \n",
    "                                                                  \"sitkVectorFloat64\",\n",
    "                                                                  lastImage$GetSize(),\n",
    "                                                                  lastImage$GetOrigin(),\n",
    "                                                                  lastImage$GetSpacing(),\n",
    "                                                                  lastImage$GetDirection())\n",
    "    }\n",
    "    else\n",
    "    {\n",
    "        initial_displacement_field <- Image(lastImage$GetWidth(), \n",
    "                                            lastImage$GetHeight(),\n",
    "                                            lastImage$GetDepth(),\n",
    "                                            \"sitkVectorFloat64\")\n",
    "        initial_displacement_field$CopyInformation(lastImage)\n",
    "    }\n",
    "    # Run the registration pyramid, run a registration at the top of the pyramid and then iterate: \n",
    "    # a. resampling previous deformation field onto higher resolution grid.\n",
    "    # b. register.\n",
    "    initial_displacement_field <- registration_algorithm$Execute(fixed_images[[length(fixed_images)]], \n",
    "                                                                moving_images[[length(moving_images)]], \n",
    "                                                                initial_displacement_field)\n",
    "    # This is a use case for a loop, because the operations depend on the previous step. Otherwise\n",
    "    # we need to mess around with tricky assignments to variables in different scopes\n",
    "    for (idx in seq(length(fixed_images)-1,1)) {\n",
    "        f_image <- fixed_images[[idx]]\n",
    "        m_image <- moving_images[[idx]]\n",
    "        initial_displacement_field <- Resample(initial_displacement_field, f_image)\n",
    "        initial_displacement_field <- registration_algorithm$Execute(f_image, m_image, initial_displacement_field)\n",
    "    }\n",
    "\n",
    "    return(DisplacementFieldTransform(initial_displacement_field))\n",
    "}"
   ]
  },
  {
   "cell_type": "markdown",
   "metadata": {},
   "source": [
    "Now we will use our newly minted multiscale framework to perform registration with the Demons filters. Some things you can easily try out by editing the code below:\n",
    "1. Is there really a need for multiscale - just call the multiscale_demons method without the shrink_factors and smoothing_sigmas parameters.\n",
    "2. Which Demons filter should you use - configure the other filters and see if our selection is the best choice (accuracy/time)."
   ]
  },
  {
   "cell_type": "code",
   "execution_count": null,
   "metadata": {},
   "outputs": [],
   "source": [
    "# Select a Demons filter and configure it.\n",
    "demons_filter <-  FastSymmetricForcesDemonsRegistrationFilter()\n",
    "demons_filter$SetNumberOfIterations(20)\n",
    "# Regularization (update field - viscous, total field - elastic).\n",
    "demons_filter$SetSmoothDisplacementField(TRUE)\n",
    "demons_filter$SetStandardDeviations(2.0)\n",
    "\n",
    "# Run the registration.\n",
    "tx <- multiscale_demons(registration_algorithm=demons_filter, \n",
    "                       fixed_image, \n",
    "                       moving_image,\n",
    "                       shrink_factors = c(4,2),\n",
    "                       smoothing_sigmas = c(8,4))\n",
    "\n",
    "# Look at the final TREs.\n",
    "final_errors <- target_registration_errors(tx, fixed_points, moving_points)\n",
    "\n",
    "cat(paste0('Final alignment errors in millimeters, mean(std): ',\n",
    "           sprintf('%.2f',mean(final_errors)),'(',sprintf('%.2f',sd(final_errors)),') max:', sprintf('%.2f\\n',max(final_errors))))"
   ]
  },
  {
   "cell_type": "markdown",
   "metadata": {},
   "source": [
    "## Quantitative Evaluation II (Segmentation)\n",
    "\n",
    "While the use of corresponding points to evaluate registration is the desired approach, it is often not applicable. In many cases there are only a few distinct points which can be localized in the two images, possibly too few to serve as a metric for evaluating the registration result across the whole region of interest. \n",
    "\n",
    "An alternative approach is to use segmentation. In this approach, we independently segment the structures of interest in the two images. After registration we transfer the segmentation from one image to the other and compare the original and registration induced segmentations."
   ]
  },
  {
   "cell_type": "code",
   "execution_count": null,
   "metadata": {
    "collapsed": true
   },
   "outputs": [],
   "source": [
    "# Transfer the segmentation via the estimated transformation. \n",
    "# Nearest Neighbor interpolation so we don't introduce new labels.\n",
    "transformed_labels <- Resample(masks[[moving_index]],\n",
    "                               fixed_image,\n",
    "                               tx, \n",
    "                               \"sitkNearestNeighbor\",\n",
    "                               0.0, \n",
    "                               masks[[moving_index]]$GetPixelID())"
   ]
  },
  {
   "cell_type": "markdown",
   "metadata": {
    "collapsed": true
   },
   "source": [
    "We have now replaced the task of evaluating registration with that of evaluating segmentation."
   ]
  },
  {
   "cell_type": "code",
   "execution_count": null,
   "metadata": {
    "collapsed": true
   },
   "outputs": [],
   "source": [
    "# Often referred to as ground truth, but we prefer reference as the truth is never known.\n",
    "reference_segmentation <- fixed_image_mask\n",
    "# Segmentations before and after registration\n",
    "segmentations = c(moving_image_mask, transformed_labels == popi_lung_label)"
   ]
  },
  {
   "cell_type": "code",
   "execution_count": null,
   "metadata": {
    "collapsed": true
   },
   "outputs": [],
   "source": [
    "# Compute overlap related quantities.\n",
    "compute_overlap_measures <- function(segmentation, reference_segmentation)\n",
    "{\n",
    "  # Note that for the overlap measures filter, because we are dealing with a single label we \n",
    "  # use the combined, all labels, evaluation measures without passing a specific label to the methods.\n",
    "  omf <- LabelOverlapMeasuresImageFilter()\n",
    "  omf$Execute(reference_segmentation, segmentation)\n",
    "  result <- c(omf$GetJaccardCoefficient(), omf$GetDiceCoefficient(), \n",
    "              omf$GetVolumeSimilarity(), omf$GetFalseNegativeError(), omf$GetFalsePositiveError())\n",
    "  names(result) <- c(\"jaccard\", \"dice\", \"volume_similarity\",\n",
    "                     \"false_negative\", \"false_positive\")\n",
    "  return (result)\n",
    "}\n",
    "\n",
    "# Compute symmetric surface distance related quantities.\n",
    "compute_surface_distance_measures <- function(segmentation, \n",
    "                                              reference_segmentation, reference_surface, num_reference_surface_pixels, reference_distance_map)\n",
    "{\n",
    "  segmented_label <- 1\n",
    "  segmented_distance_map <- Abs(SignedMaurerDistanceMap(segmentation, FALSE, FALSE))\n",
    "  segmented_surface <- LabelContour(segmentation)  \n",
    " \n",
    "  # Multiply the binary surface segmentations with the distance maps. The resulting distance\n",
    "  # maps contain non-zero values only on the surface (they can also contain zero on the surface)\n",
    "  seg2ref_distance_map <- reference_distance_map*Cast(segmented_surface, \"sitkFloat32\")\n",
    "  ref2seg_distance_map <- segmented_distance_map*Cast(reference_surface, \"sitkFloat32\")\n",
    "  \n",
    "  # Get the number of pixels in the segmented surface by counting all pixels that are 1.\n",
    "  statistics_image_filter <- StatisticsImageFilter()    \n",
    "  statistics_image_filter$Execute(segmented_surface)\n",
    "  num_segmented_surface_pixels <- as.integer(statistics_image_filter$GetSum())\n",
    "\n",
    "  # Get all non-zero distances and then add zero distances if required.\n",
    "  seg2ref_distance_map_arr <- as.array(seg2ref_distance_map)\n",
    "  seg2ref_distances <- seg2ref_distance_map_arr[seg2ref_distance_map_arr!=0]\n",
    "  seg2ref_distances <- c(seg2ref_distances, rep(0.0, num_segmented_surface_pixels - length(seg2ref_distances)))\n",
    " \n",
    "  ref2seg_distance_map_arr <- as.array(ref2seg_distance_map)\n",
    "  ref2seg_distances <- ref2seg_distance_map_arr[ref2seg_distance_map_arr!=0]\n",
    "  ref2seg_distances <- c(ref2seg_distances, rep(0.0, num_reference_surface_pixels - length(ref2seg_distances)))\n",
    " \n",
    "  all_surface_distances = c(seg2ref_distances, ref2seg_distances)\n",
    "  \n",
    "  hdf = HausdorffDistanceImageFilter()  \n",
    "  hdf$Execute(reference_segmentation, segmentation)\n",
    "    \n",
    "  result <- c(hdf$GetHausdorffDistance(),\n",
    "              mean(all_surface_distances), median(all_surface_distances),\n",
    "              sd(all_surface_distances), max(all_surface_distances))\n",
    "  names(result) <- c(\"hausdorff_distance\", \"mean_surface_distance\", \"median_surface_distance\", \"std_surface_distance\", \"max_surface_distance\")\n",
    "  return (result)              \n",
    "}"
   ]
  },
  {
   "cell_type": "code",
   "execution_count": null,
   "metadata": {},
   "outputs": [],
   "source": [
    "overlap_df <- as.data.frame(t(sapply(segmentations, compute_overlap_measures, reference_segmentation)))\n",
    "overlap_df$stage <- c(\"before registration\", \"after registration\")\n",
    "\n",
    "# Compute relevant information on reference segmentation once and then use multiple times in\n",
    "# the surface based evaluation measures.\n",
    "reference_distance_map <- Abs(SignedMaurerDistanceMap(reference_segmentation, FALSE, FALSE))\n",
    "reference_surface <- LabelContour(reference_segmentation)\n",
    "statistics_image_filter <- StatisticsImageFilter()\n",
    "statistics_image_filter$Execute(reference_surface)\n",
    "num_reference_surface_pixels <- as.integer(statistics_image_filter$GetSum()) \n",
    "\n",
    "surface_df <- as.data.frame(t(sapply(segmentations, compute_surface_distance_measures, \n",
    "                       reference_segmentation, reference_surface, num_reference_surface_pixels, reference_distance_map)))\n",
    "surface_df$stage <- c(\"before registration\", \"after registration\")\n",
    "\n",
    "# Display the two data frames, to see the numbers.\n",
    "overlap_df\n",
    "surface_df"
   ]
  },
  {
   "cell_type": "code",
   "execution_count": null,
   "metadata": {},
   "outputs": [],
   "source": [
    "# Use the tidyr package to organize the data frames in a column/long format for display.\n",
    "overlap.gathered <- gather(overlap_df, key=overlap_measure, value=score, -stage)\n",
    "surface.gathered <- gather(surface_df, key=distance_measure, value=score, -stage)\n",
    "# Change the default order, alphabetical sorting, to before-after.\n",
    "overlap.gathered$stage <- factor(overlap.gathered$stage, levels= c(\"before registration\", \"after registration\"))\n",
    "surface.gathered$stage <- factor(overlap.gathered$stage, levels= c(\"before registration\", \"after registration\"))\n",
    "# Display results as a bar plot.\n",
    "ggplot(overlap.gathered,\n",
    "       aes(x=stage, y=score, group=overlap_measure, fill=overlap_measure)) +\n",
    "       geom_bar(stat=\"identity\", position=\"dodge\", colour='black', alpha=0.5)\n",
    "ggplot(surface.gathered,\n",
    "       aes(x=stage, y=score, group=distance_measure, fill=distance_measure)) +\n",
    "       geom_bar(stat=\"identity\", position=\"dodge\", colour='black', alpha=0.5) +\n",
    "       ylab(\"surface distance [mm]\")"
   ]
  },
  {
   "cell_type": "code",
   "execution_count": null,
   "metadata": {
    "collapsed": true
   },
   "outputs": [],
   "source": []
  }
 ],
 "metadata": {
  "kernelspec": {
   "display_name": "R",
   "language": "R",
   "name": "ir"
  },
  "language_info": {
   "codemirror_mode": "r",
   "file_extension": ".r",
   "mimetype": "text/x-r-source",
   "name": "R",
   "pygments_lexer": "r",
   "version": "3.4.3"
  }
 },
 "nbformat": 4,
 "nbformat_minor": 2
}
